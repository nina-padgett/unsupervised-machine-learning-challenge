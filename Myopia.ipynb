{
 "cells": [
  {
   "cell_type": "code",
   "execution_count": null,
   "id": "6b49961d",
   "metadata": {},
   "outputs": [],
   "source": [
    "# Import dependencies\n",
    "import numpy as np\n",
    "import pandas as pd\n",
    "import matplotlib.pyplot as plt\n",
    "from pathlib import Path\n",
    "from sklearn.model_selection import train_test_split\n",
    "from sklearn.linear_model import LogisticRegression\n",
    "from sklearn.preprocessing import StandardScaler\n",
    "from sklearn.decomposition import PCA\n",
    "from sklearn.cluster import KMeans\n",
    "from sklearn.manifold import TSNE\n",
    "import os"
   ]
  },
  {
   "cell_type": "code",
   "execution_count": null,
   "id": "0240320e",
   "metadata": {},
   "outputs": [],
   "source": [
    "# Import the data\n",
    "file_path = Path(\"myopia.csv\")\n",
    "df = pd.read_csv(file_path)\n",
    "df.head()"
   ]
  },
  {
   "cell_type": "markdown",
   "id": "ff99f223",
   "metadata": {},
   "source": [
    "### Preprocess the data"
   ]
  },
  {
   "cell_type": "code",
   "execution_count": null,
   "id": "0210bfca",
   "metadata": {},
   "outputs": [],
   "source": [
    "# Remove \"MYOPIC\" column so that clusters are not provided\n",
    "del df[\"MYOPIC\"]"
   ]
  },
  {
   "cell_type": "code",
   "execution_count": null,
   "id": "ecc07310",
   "metadata": {},
   "outputs": [],
   "source": [
    "# Display clean dataframe\n",
    "df.head()"
   ]
  },
  {
   "cell_type": "code",
   "execution_count": null,
   "id": "f1d1297b",
   "metadata": {},
   "outputs": [],
   "source": [
    "# Scale the data\n",
    "scaler = StandardScaler()\n",
    "scaled_data = scaler.fit_transform(df[[\"AGE\", \"SPHEQ\", \"AL\", \"ACD\", \"LT\", \"VCD\", \"SPORTHR\",\n",
    "                                      \"READHR\", \"COMPHR\", \"STUDYHR\", \"TVHR\", \"DIOPTERHR\",\n",
    "                                      \"MOMMY\", \"DADMY\"]])"
   ]
  },
  {
   "cell_type": "code",
   "execution_count": null,
   "id": "b0cbf24f",
   "metadata": {},
   "outputs": [],
   "source": [
    "# Create a DataFrame with the transformed data\n",
    "scaled_df =  pd.DataFrame(scaled_data, columns=df.columns)\n",
    "scaled_df.head()"
   ]
  },
  {
   "cell_type": "markdown",
   "id": "d62518f3",
   "metadata": {},
   "source": [
    "### Apply dimensionality reduction"
   ]
  },
  {
   "cell_type": "code",
   "execution_count": null,
   "id": "4df36206",
   "metadata": {},
   "outputs": [],
   "source": [
    "# Initialize PCA model\n",
    "pca = PCA(n_components=0.9)"
   ]
  },
  {
   "cell_type": "code",
   "execution_count": null,
   "id": "7d328ad3",
   "metadata": {},
   "outputs": [],
   "source": [
    "# Get 90% of principal components for the data\n",
    "myopia_pca_df = pca.fit_transform(scaled_df)"
   ]
  },
  {
   "cell_type": "code",
   "execution_count": null,
   "id": "b6634076",
   "metadata": {},
   "outputs": [],
   "source": [
    "# How did the number of features change?\n",
    "myopia_pca_df.shape"
   ]
  },
  {
   "cell_type": "code",
   "execution_count": null,
   "id": "c527acd9",
   "metadata": {},
   "outputs": [],
   "source": [
    "# Fetch the explained variance\n",
    "pca.explained_variance_ratio_"
   ]
  },
  {
   "cell_type": "code",
   "execution_count": null,
   "id": "40522487",
   "metadata": {},
   "outputs": [],
   "source": [
    "# Initialize t-SNE model\n",
    "tsne = TSNE(learning_rate=250)"
   ]
  },
  {
   "cell_type": "code",
   "execution_count": null,
   "id": "a93a291d",
   "metadata": {},
   "outputs": [],
   "source": [
    "# Reduce dimensions\n",
    "tsne_features = tsne.fit_transform(myopia_pca_df)"
   ]
  },
  {
   "cell_type": "code",
   "execution_count": null,
   "id": "f64c08d9",
   "metadata": {},
   "outputs": [],
   "source": [
    "# The dataset now has 2 columns\n",
    "tsne_features.shape"
   ]
  },
  {
   "cell_type": "code",
   "execution_count": null,
   "id": "10931000",
   "metadata": {},
   "outputs": [],
   "source": [
    "# Create a scatter plot for the dataset\n",
    "\n",
    "# The first column of transformed features\n",
    "scaled_df['x'] = tsne_features[:,0]\n",
    "\n",
    "# The second column of transformed features\n",
    "scaled_df['y'] = tsne_features[:,1]"
   ]
  },
  {
   "cell_type": "code",
   "execution_count": null,
   "id": "b3ce6c39",
   "metadata": {},
   "outputs": [],
   "source": [
    "# Visualize the clusters\n",
    "plt.scatter(scaled_df['x'], scaled_df['y'])\n",
    "plt.show()"
   ]
  },
  {
   "cell_type": "markdown",
   "id": "148cf426",
   "metadata": {},
   "source": [
    "### Perform cluster analysis with K-means"
   ]
  },
  {
   "cell_type": "code",
   "execution_count": null,
   "id": "87c8693e",
   "metadata": {},
   "outputs": [],
   "source": [
    "# Identify the number of clusters\n",
    "inertia = []\n",
    "\n",
    "# List k values\n",
    "k = list(range(1,10))\n",
    "\n",
    "# Calculate the inertia for the range of k values by finding the best k\n",
    "for i in k:\n",
    "    km = KMeans(n_clusters=i, random_state=0)\n",
    "    km.fit(scaled_df)\n",
    "    inertia.append(km.inertia_)\n",
    "    \n",
    "# Define a DataFrame to plot the Elbow Curve using hvPlot\n",
    "elbow_data = {\"k\": k, \"inertia\": inertia}\n",
    "df_elbow = pd.DataFrame(elbow_data)"
   ]
  },
  {
   "cell_type": "code",
   "execution_count": null,
   "id": "546d96e7",
   "metadata": {},
   "outputs": [],
   "source": [
    "# Plot the elbow curve to find the best candidate(s) for k\n",
    "plt.plot(df_elbow['k'], df_elbow['inertia'])\n",
    "plt.xticks(range(1,10))\n",
    "plt.xlabel('Number of clusters')\n",
    "plt.ylabel('Inertia')\n",
    "plt.show()"
   ]
  },
  {
   "cell_type": "markdown",
   "id": "3ce90e7a",
   "metadata": {},
   "source": [
    "### Recommendation"
   ]
  },
  {
   "cell_type": "code",
   "execution_count": null,
   "id": "01f2cadd",
   "metadata": {},
   "outputs": [],
   "source": [
    "The elbow curve above indicates patients can be clustered into 3 or 5 groups.\n",
    "Based on the scatter plot, 5 clusters are distinct."
   ]
  }
 ],
 "metadata": {
  "kernelspec": {
   "display_name": "Python [conda env:PythonData38] *",
   "language": "python",
   "name": "conda-env-PythonData38-py"
  },
  "language_info": {
   "codemirror_mode": {
    "name": "ipython",
    "version": 3
   },
   "file_extension": ".py",
   "mimetype": "text/x-python",
   "name": "python",
   "nbconvert_exporter": "python",
   "pygments_lexer": "ipython3",
   "version": "3.8.12"
  }
 },
 "nbformat": 4,
 "nbformat_minor": 5
}
